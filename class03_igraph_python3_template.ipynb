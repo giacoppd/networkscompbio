{
 "cells": [
  {
   "cell_type": "markdown",
   "metadata": {},
   "source": [
    "Load the Pathway Commons SIF file into a pandas data frame, naming the three columns"
   ]
  },
  {
   "cell_type": "code",
   "execution_count": 1,
   "metadata": {},
   "outputs": [],
   "source": [
    "import pandas\n",
    "df = pandas.read_csv(\"shared/pathway_commons.sif\", \n",
    "                     sep=\"\\t\", \n",
    "                     names=[\"species1\",\"interaction_type\",\"species2\"])"
   ]
  },
  {
   "cell_type": "markdown",
   "metadata": {},
   "source": [
    "Make a set of specific interaction-type names, for three general types of networks:  PPI, metabolic network, and PPD"
   ]
  },
  {
   "cell_type": "code",
   "execution_count": 2,
   "metadata": {},
   "outputs": [],
   "source": [
    "interaction_types_ppi = set([\"interacts-with\",\n",
    "                           \"in-complex-with\",\n",
    "                           \"neighbor-of\"])\n",
    "\n",
    "interaction_types_metab = set([\"controls-production-of\",\n",
    "                             \"consumption-controlled-by\",\n",
    "                             \"controls-production-of\",\n",
    "                             \"controls-transport-of-chemical\"])\n",
    "\n",
    "interaction_types_ppd = set([\"catalysis-precedes\",\n",
    "                           \"controls-phosphorylation-of\",\n",
    "                           \"controls-state-change-of\",\n",
    "                           \"controls-transport-of\",\n",
    "                           \"controls-expression-of\"])"
   ]
  },
  {
   "cell_type": "markdown",
   "metadata": {},
   "source": [
    "For each of the three sets, make a new data frame by subsetting your pandas dataframe to only the rows where the \"interaction_type\" column contains a value that is in the set of specific interaction types."
   ]
  },
  {
   "cell_type": "code",
   "execution_count": 8,
   "metadata": {
    "scrolled": true
   },
   "outputs": [],
   "source": [
    "ppirows = df.interaction_type.isin(interaction_types_ppi)\n",
    "metabrows = df.interaction_type.isin(interaction_types_metab)\n",
    "ppdrows = df.interaction_type.isin(interaction_types_ppd)\n",
    "\n",
    "df_ppi = df[ppirows]\n",
    "df_metab = df[metabrows]\n",
    "df_ppd = df[ppdrows]\n",
    "\n",
    "df_ppi_el = df_ppi[[\"species1\",\"species2\"]].values.tolist()\n",
    "df_metab_el = df_metab[[\"species1\",\"species2\"]].values.tolist()\n",
    "df_ppd_el = df_ppd[[\"species1\",\"species2\"]].values.tolist()"
   ]
  },
  {
   "cell_type": "markdown",
   "metadata": {},
   "source": [
    "Make an igraph Graph object from each of your three data frames, using `Graph.TupleList`; call the `summary` function on each graph object to print the summary information for the graph."
   ]
  },
  {
   "cell_type": "code",
   "execution_count": 9,
   "metadata": {},
   "outputs": [
    {
     "name": "stdout",
     "output_type": "stream",
     "text": [
      "IGRAPH UN-- 17531 508480 -- \n",
      "+ attr: name (v)\n"
     ]
    }
   ],
   "source": [
    "from igraph import Graph\n",
    "from igraph import summary\n",
    "\n"
   ]
  },
  {
   "cell_type": "code",
   "execution_count": 10,
   "metadata": {},
   "outputs": [
    {
     "name": "stdout",
     "output_type": "stream",
     "text": [
      "IGRAPH DN-- 9795 47646 -- \n",
      "+ attr: name (v)\n"
     ]
    }
   ],
   "source": []
  },
  {
   "cell_type": "code",
   "execution_count": 11,
   "metadata": {},
   "outputs": [
    {
     "name": "stdout",
     "output_type": "stream",
     "text": [
      "IGRAPH DN-- 18155 479298 -- \n",
      "+ attr: name (v)\n"
     ]
    }
   ],
   "source": []
  },
  {
   "cell_type": "code",
   "execution_count": 7,
   "metadata": {},
   "outputs": [
    {
     "data": {
      "text/plain": [
       "list"
      ]
     },
     "execution_count": 7,
     "metadata": {},
     "output_type": "execute_result"
    }
   ],
   "source": [
    "type(df_ppi_el)"
   ]
  }
 ],
 "metadata": {
  "kernelspec": {
   "display_name": "Python 3",
   "language": "python",
   "name": "python3"
  },
  "language_info": {
   "codemirror_mode": {
    "name": "ipython",
    "version": 3
   },
   "file_extension": ".py",
   "mimetype": "text/x-python",
   "name": "python",
   "nbconvert_exporter": "python",
   "pygments_lexer": "ipython3",
   "version": "3.5.2"
  }
 },
 "nbformat": 4,
 "nbformat_minor": 1
}
