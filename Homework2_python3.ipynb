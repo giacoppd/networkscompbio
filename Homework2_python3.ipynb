{
 "cells": [
  {
   "cell_type": "markdown",
   "metadata": {},
   "source": [
    "# CS446/519 Homework Assignment 2"
   ]
  },
  {
   "cell_type": "markdown",
   "metadata": {},
   "source": [
    "load in the E. coli operon-operon network (gene regulatory network) data in edge-list format; display the first six lines of data as a sanity check. Use `pandas.read_csv` and `pandas.DataFrame.head`."
   ]
  },
  {
   "cell_type": "code",
   "execution_count": 53,
   "metadata": {
    "collapsed": false
   },
   "outputs": [
    {
     "data": {
      "text/html": [
       "<div>\n",
       "<table border=\"1\" class=\"dataframe\">\n",
       "  <thead>\n",
       "    <tr style=\"text-align: right;\">\n",
       "      <th></th>\n",
       "      <th>source</th>\n",
       "      <th>target</th>\n",
       "    </tr>\n",
       "  </thead>\n",
       "  <tbody>\n",
       "    <tr>\n",
       "      <th>0</th>\n",
       "      <td>ADA</td>\n",
       "      <td>AIDB</td>\n",
       "    </tr>\n",
       "    <tr>\n",
       "      <th>1</th>\n",
       "      <td>ADIY</td>\n",
       "      <td>GADX</td>\n",
       "    </tr>\n",
       "    <tr>\n",
       "      <th>2</th>\n",
       "      <td>ALLR</td>\n",
       "      <td>ALLS</td>\n",
       "    </tr>\n",
       "    <tr>\n",
       "      <th>3</th>\n",
       "      <td>ARCA</td>\n",
       "      <td>BETI</td>\n",
       "    </tr>\n",
       "    <tr>\n",
       "      <th>4</th>\n",
       "      <td>ARCA</td>\n",
       "      <td>DPIA</td>\n",
       "    </tr>\n",
       "    <tr>\n",
       "      <th>5</th>\n",
       "      <td>ARCA</td>\n",
       "      <td>FNR</td>\n",
       "    </tr>\n",
       "  </tbody>\n",
       "</table>\n",
       "</div>"
      ],
      "text/plain": [
       "  source target\n",
       "0    ADA   AIDB\n",
       "1   ADIY   GADX\n",
       "2   ALLR   ALLS\n",
       "3   ARCA   BETI\n",
       "4   ARCA   DPIA\n",
       "5   ARCA    FNR"
      ]
     },
     "execution_count": 53,
     "metadata": {},
     "output_type": "execute_result"
    }
   ],
   "source": [
    "import pandas\n",
    "edge_list_df = pandas.read_csv(\"shared/ecolitfnet.txt\", sep=\"\\t\", names=[\"source\",\"target\"])\n",
    "edge_list_df.shape\n",
    "edge_list_df.head(n=6)"
   ]
  },
  {
   "cell_type": "markdown",
   "metadata": {},
   "source": [
    "Make an igraph directed graph from the network; print a graph summary as a sanity check.  You will need to use `igraph.Graph.TupleList` and `summary`."
   ]
  },
  {
   "cell_type": "code",
   "execution_count": 54,
   "metadata": {
    "collapsed": false
   },
   "outputs": [
    {
     "data": {
      "text/plain": [
       "'IGRAPH DN-- 133 261 -- \\n+ attr: name (v)'"
      ]
     },
     "execution_count": 54,
     "metadata": {},
     "output_type": "execute_result"
    }
   ],
   "source": [
    "import igraph\n",
    "genereg_graph = igraph.Graph.TupleList(edge_list_df.values.tolist(), directed=True)\n",
    "genereg_graph.summary()"
   ]
  },
  {
   "cell_type": "markdown",
   "metadata": {},
   "source": [
    "Obtain the counts of all three-vertex motifs in the graph. You will need to use the `motifs_randesu` method in `igraph.Graph`."
   ]
  },
  {
   "cell_type": "code",
   "execution_count": 55,
   "metadata": {
    "collapsed": false
   },
   "outputs": [
    {
     "data": {
      "text/plain": [
       "[nan, nan, 275, nan, 125, 39, 1676, 47, 25, 68, 0, 0, 2, 10, 1, 1]"
      ]
     },
     "execution_count": 55,
     "metadata": {},
     "output_type": "execute_result"
    }
   ],
   "source": [
    "motif_counts_3 = genereg_graph.motifs_randesu(3)\n",
    "motif_counts_3"
   ]
  },
  {
   "cell_type": "markdown",
   "metadata": {},
   "source": [
    "Get motif counts for 10,000 different randomizations of the network.  You will need to use a `for` loop, `igraph.Graph.copy`, `igraph.graph.rewire`, and `append`.  You can specify n=1000 for the rewiring."
   ]
  },
  {
   "cell_type": "code",
   "execution_count": 50,
   "metadata": {
    "collapsed": false
   },
   "outputs": [],
   "source": [
    "import itertools\n",
    "motif_counts_rand = []\n",
    "for _ in itertools.repeat(None, 10000):\n",
    "    genereg_graph_rand = genereg_graph.copy()\n",
    "    genereg_graph_rand.rewire(n=1000)\n",
    "    motif_counts_rand.append(genereg_graph_rand.motifs_randesu(size=3))"
   ]
  },
  {
   "cell_type": "markdown",
   "metadata": {},
   "source": [
    "For each motif type, compute the mean and standard deviation of the counts of appearances of the motif in each of the 10,000 randomly rewired graphs. You will need to use the `numpy.mean` and `numpy.std` functions."
   ]
  },
  {
   "cell_type": "code",
   "execution_count": 51,
   "metadata": {
    "collapsed": false
   },
   "outputs": [],
   "source": [
    "import numpy\n",
    "motif_counts_rand_np = numpy.array(motif_counts_rand)\n",
    "motif_counts_rand_mean = numpy.mean(motif_counts_rand_np, axis=0)\n",
    "motif_counts_rand_stdev = numpy.std(motif_counts_rand_np, axis=0)"
   ]
  },
  {
   "cell_type": "markdown",
   "metadata": {},
   "source": [
    "For each motif type, obtain the Z score for the number of appearances of the motif in the real network, vs. in the randomly rewired networks."
   ]
  },
  {
   "cell_type": "code",
   "execution_count": 61,
   "metadata": {
    "collapsed": false
   },
   "outputs": [],
   "source": [
    "motif_counts_zscores = (numpy.array(motif_counts_3) - motif_counts_rand_mean)/motif_counts_rand_stdev"
   ]
  },
  {
   "cell_type": "markdown",
   "metadata": {},
   "source": [
    "Print out the mean number of FFLs on random networks, the number of FFLs on the real network, and the Z-score for the FFL count on the real network vs. the random networks. The FFL should be in the 7th element (starting from zero!) of the vector returned from `motifs_randesu`."
   ]
  },
  {
   "cell_type": "code",
   "execution_count": 60,
   "metadata": {
    "collapsed": false
   },
   "outputs": [
    {
     "name": "stdout",
     "output_type": "stream",
     "text": [
      "Mean number of FFLs on random networks: \n",
      "57.2775\n",
      "Number of FFLs on the real network: \n",
      "47\n",
      "Z-score for the FFL count on the real network vs. the random networks: \n",
      "-1.11328351937\n"
     ]
    }
   ],
   "source": [
    "print(\"Mean number of FFLs on random networks: \")\n",
    "print(motif_counts_rand_mean[7])\n",
    "print(\"Number of FFLs on the real network: \")\n",
    "print(motif_counts_3[7])\n",
    "print(\"Z-score for the FFL count on the real network vs. the random networks: \")\n",
    "print(motif_counts_zscores[7])"
   ]
  },
  {
   "cell_type": "markdown",
   "metadata": {},
   "source": [
    "Figure out the isomorphism class of the network shown in the assignment PDF.  You'll want to build an edge-list tuple-list and then an igraph `Graph` object using `Graph.TupleList` (make sure to specify a directed graph!), and then use the `isoclass` method."
   ]
  },
  {
   "cell_type": "code",
   "execution_count": 49,
   "metadata": {
    "collapsed": false
   },
   "outputs": [
    {
     "name": "stdout",
     "output_type": "stream",
     "text": [
      "IGRAPH DN-- 4 4 -- \n",
      "+ attr: name (v)\n"
     ]
    },
    {
     "data": {
      "text/plain": [
       "19"
      ]
     },
     "execution_count": 49,
     "metadata": {},
     "output_type": "execute_result"
    }
   ],
   "source": [
    "edge_list_4pairs_testnet = [[0,2],[1,2],[0,3],[1,3]]\n",
    "graph_4pairs_testnet = igraph.Graph.TupleList(edge_list_4pairs_testnet, directed=True)\n",
    "print(graph_4pairs_testnet.summary())\n",
    "pairs_graph_isoclass = graph_4pairs_testnet.isoclass()\n",
    "pairs_graph_isoclass"
   ]
  },
  {
   "cell_type": "markdown",
   "metadata": {
    "collapsed": true
   },
   "source": [
    "Compute the number of appearances of this four-vertex motif in the real network, using `motifs` with `size=4`."
   ]
  },
  {
   "cell_type": "code",
   "execution_count": 58,
   "metadata": {
    "collapsed": false
   },
   "outputs": [
    {
     "data": {
      "text/plain": [
       "297"
      ]
     },
     "execution_count": 58,
     "metadata": {},
     "output_type": "execute_result"
    }
   ],
   "source": [
    "motif_counts_4 = genereg_graph.motifs_randesu(4)\n",
    "motif_counts_4[pairs_graph_isoclass]"
   ]
  },
  {
   "cell_type": "markdown",
   "metadata": {},
   "source": [
    "Get the mean and standard deviation for the count of four-vertex motifs in 10,000 randomly rewired graphs.  You will need to use a `for` loop, `igraph.Graph.copy`, `igraph.graph.rewire`, and `append`.  You can specify n=1000 for the rewiring."
   ]
  },
  {
   "cell_type": "code",
   "execution_count": 59,
   "metadata": {
    "collapsed": true
   },
   "outputs": [],
   "source": [
    "import itertools\n",
    "motif_counts_rand4 = []\n",
    "for _ in itertools.repeat(None, 10000):\n",
    "    genereg_graph_rand = genereg_graph.copy()\n",
    "    genereg_graph_rand.rewire(n=1000)\n",
    "    motif_counts_rand4.append(genereg_graph_rand.motifs_randesu(size=4)[pairs_graph_isoclass])"
   ]
  },
  {
   "cell_type": "markdown",
   "metadata": {},
   "source": [
    "Print out the mean number of 4-vertex DOR motifs for the random networks, the standard deviation, and the Z score for the DOR motif count in the real graph vs. the random graphs. You'll need to use `numpy.array`, `numpy.mean`, and `numpy.std`."
   ]
  },
  {
   "cell_type": "code",
   "execution_count": 64,
   "metadata": {
    "collapsed": false
   },
   "outputs": [
    {
     "name": "stdout",
     "output_type": "stream",
     "text": [
      "Average count of the four-vertex DOR motif for random networks: \n",
      "178.1201\n",
      "Standard deviation of the count of the four-vertex DOR motif for random networks: \n",
      "38.6521936763\n",
      "Z-score for DOR motif count in real vs. random networks: \n",
      "3.07563138578\n"
     ]
    }
   ],
   "source": [
    "motif_counts_rand4_np = numpy.array(motif_counts_rand4)\n",
    "motif_counts_rand4_mean = numpy.mean(motif_counts_rand4)\n",
    "motif_counts_rand4_std = numpy.std(motif_counts_rand4)\n",
    "motif_counts_4_Z = (motif_counts_4[pairs_graph_isoclass] - motif_counts_rand4_mean)/motif_counts_rand4_std\n",
    "print(\"Average count of the four-vertex DOR motif for random networks: \")\n",
    "print(motif_counts_rand4_mean)\n",
    "print(\"Standard deviation of the count of the four-vertex DOR motif for random networks: \")\n",
    "print(motif_counts_rand4_std)\n",
    "print(\"Z-score for DOR motif count in real vs. random networks: \")\n",
    "print(motif_counts_4_Z)"
   ]
  }
 ],
 "metadata": {
  "kernelspec": {
   "display_name": "Python 3",
   "language": "python",
   "name": "python3"
  },
  "language_info": {
   "codemirror_mode": {
    "name": "ipython",
    "version": 3
   },
   "file_extension": ".py",
   "mimetype": "text/x-python",
   "name": "python",
   "nbconvert_exporter": "python",
   "pygments_lexer": "ipython3",
   "version": "3.4.3"
  }
 },
 "nbformat": 4,
 "nbformat_minor": 1
}
