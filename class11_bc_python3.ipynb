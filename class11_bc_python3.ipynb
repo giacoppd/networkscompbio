{
 "cells": [
  {
   "cell_type": "code",
   "execution_count": 151,
   "metadata": {},
   "outputs": [],
   "source": [
    "import queue\n",
    "import random\n",
    "import igraph"
   ]
  },
  {
   "cell_type": "code",
   "execution_count": 152,
   "metadata": {},
   "outputs": [],
   "source": [
    "def single_vertex_bfs_with_paths_and_weights(s, g):\n",
    "    # s is the integer index of the vertex that we are at\n",
    "    # g is the graph in adjacency list format\n",
    "    N = len(g)\n",
    "    dists = [-1]*N\n",
    "    dists[s] = 0\n",
    "    # dists is a list (length N) of the known distances to each vertex\n",
    "    weights = [0.]*N\n",
    "    weights[s] = 1.\n",
    "    # weights is a list (length N) of counts of the number of distinct \n",
    "    # backpaths from each vertex to s\n",
    "    paths = [[]]*N\n",
    "    # paths is a list (length N) of the lists of backpath edges toward s\n",
    "    work = queue.Queue()\n",
    "    work.put(s)\n",
    "    orders = []\n",
    "    while not work.empty():\n",
    "        u = work.get()\n",
    "        u_neighbors = g[u]\n",
    "        for v in u_neighbors:\n",
    "            if dists[v] < 0:  # we haven't visited this vertex before\n",
    "                dists[v] = dists[u] + 1\n",
    "                weights[v] = weights[u]\n",
    "                work.put(v)\n",
    "                orders = [v] + orders\n",
    "                paths[v] = paths[v] + [u]\n",
    "            else:             # we have visited this vertex before\n",
    "                if dists[v] == dists[u] + 1:\n",
    "                    paths[v] = paths[v] + [u]\n",
    "                    weights[v] = weights[u] + weights[v]\n",
    "    return [dists, paths, weights, orders]\n",
    "\n",
    "def all_vertices_betweenness_centrality(g):\n",
    "    N = len(g)\n",
    "    final_scores = [0]*N\n",
    "    for s in range(0,N):\n",
    "        ret_vals = single_vertex_bfs_with_paths_and_weights(s, g)\n",
    "        dists = ret_vals[0]\n",
    "        paths = ret_vals[1]\n",
    "        weights = ret_vals[2]\n",
    "        orders = ret_vals[3]\n",
    "        scores = [1]*N\n",
    "        for v in orders:\n",
    "            neighbors = paths[v]\n",
    "            for neighbor in neighbors:\n",
    "                ratio = weights[neighbor]/weights[v]\n",
    "                scores[neighbor] = scores[neighbor] + scores[v]*ratio\n",
    "        for u in range(0,N):\n",
    "            final_scores[u] = final_scores[u] + scores[u]\n",
    "    for s in range(0,N):\n",
    "        final_scores[s] = (final_scores[s] - 2*N + 1)/2.0\n",
    "    return final_scores"
   ]
  },
  {
   "cell_type": "code",
   "execution_count": 156,
   "metadata": {},
   "outputs": [
    {
     "data": {
      "image/svg+xml": [
       "<?xml version=\"1.0\" encoding=\"UTF-8\"?>\n",
       "<svg xmlns=\"http://www.w3.org/2000/svg\" xmlns:xlink=\"http://www.w3.org/1999/xlink\" width=\"600pt\" height=\"600pt\" viewBox=\"0 0 600 600\" version=\"1.1\">\n",
       "<g id=\"surface2\">\n",
       "<rect x=\"0\" y=\"0\" width=\"600\" height=\"600\" style=\"fill:rgb(100%,100%,100%);fill-opacity:1;stroke:none;\"/>\n",
       "<path style=\"fill:none;stroke-width:1;stroke-linecap:butt;stroke-linejoin:miter;stroke:rgb(26.666667%,26.666667%,26.666667%);stroke-opacity:1;stroke-miterlimit:10;\" d=\"M 169.847656 376.589844 L 318.296875 448.757812 \"/>\n",
       "<path style=\"fill:none;stroke-width:1;stroke-linecap:butt;stroke-linejoin:miter;stroke:rgb(26.666667%,26.666667%,26.666667%);stroke-opacity:1;stroke-miterlimit:10;\" d=\"M 169.847656 376.589844 L 20 344.574219 \"/>\n",
       "<path style=\"fill:none;stroke-width:1;stroke-linecap:butt;stroke-linejoin:miter;stroke:rgb(26.666667%,26.666667%,26.666667%);stroke-opacity:1;stroke-miterlimit:10;\" d=\"M 169.847656 376.589844 L 46.714844 497.050781 \"/>\n",
       "<path style=\"fill:none;stroke-width:1;stroke-linecap:butt;stroke-linejoin:miter;stroke:rgb(26.666667%,26.666667%,26.666667%);stroke-opacity:1;stroke-miterlimit:10;\" d=\"M 169.847656 376.589844 L 126.042969 190.558594 \"/>\n",
       "<path style=\"fill:none;stroke-width:1;stroke-linecap:butt;stroke-linejoin:miter;stroke:rgb(26.666667%,26.666667%,26.666667%);stroke-opacity:1;stroke-miterlimit:10;\" d=\"M 318.296875 448.757812 L 452.722656 513.78125 \"/>\n",
       "<path style=\"fill:none;stroke-width:1;stroke-linecap:butt;stroke-linejoin:miter;stroke:rgb(26.666667%,26.666667%,26.666667%);stroke-opacity:1;stroke-miterlimit:10;\" d=\"M 169.847656 376.589844 L 162.839844 559.992188 \"/>\n",
       "<path style=\"fill:none;stroke-width:1;stroke-linecap:butt;stroke-linejoin:miter;stroke:rgb(26.666667%,26.666667%,26.666667%);stroke-opacity:1;stroke-miterlimit:10;\" d=\"M 126.042969 190.558594 L 91.515625 20 \"/>\n",
       "<path style=\"fill:none;stroke-width:1;stroke-linecap:butt;stroke-linejoin:miter;stroke:rgb(26.666667%,26.666667%,26.666667%);stroke-opacity:1;stroke-miterlimit:10;\" d=\"M 169.847656 376.589844 L 274.085938 247.582031 \"/>\n",
       "<path style=\"fill:none;stroke-width:1;stroke-linecap:butt;stroke-linejoin:miter;stroke:rgb(26.666667%,26.666667%,26.666667%);stroke-opacity:1;stroke-miterlimit:10;\" d=\"M 452.722656 513.78125 L 580 580 \"/>\n",
       "<path style=\"fill-rule:nonzero;fill:rgb(100%,0%,0%);fill-opacity:1;stroke-width:1;stroke-linecap:butt;stroke-linejoin:miter;stroke:rgb(0%,0%,0%);stroke-opacity:1;stroke-miterlimit:10;\" d=\"M 179.847656 376.589844 C 179.847656 382.113281 175.367188 386.589844 169.847656 386.589844 C 164.324219 386.589844 159.847656 382.113281 159.847656 376.589844 C 159.847656 371.070312 164.324219 366.589844 169.847656 366.589844 C 175.367188 366.589844 179.847656 371.070312 179.847656 376.589844 \"/>\n",
       "<path style=\"fill-rule:nonzero;fill:rgb(100%,0%,0%);fill-opacity:1;stroke-width:1;stroke-linecap:butt;stroke-linejoin:miter;stroke:rgb(0%,0%,0%);stroke-opacity:1;stroke-miterlimit:10;\" d=\"M 328.296875 448.757812 C 328.296875 454.277344 323.820312 458.757812 318.296875 458.757812 C 312.773438 458.757812 308.296875 454.277344 308.296875 448.757812 C 308.296875 443.234375 312.773438 438.757812 318.296875 438.757812 C 323.820312 438.757812 328.296875 443.234375 328.296875 448.757812 \"/>\n",
       "<path style=\"fill-rule:nonzero;fill:rgb(100%,0%,0%);fill-opacity:1;stroke-width:1;stroke-linecap:butt;stroke-linejoin:miter;stroke:rgb(0%,0%,0%);stroke-opacity:1;stroke-miterlimit:10;\" d=\"M 30 344.574219 C 30 350.097656 25.523438 354.574219 20 354.574219 C 14.476562 354.574219 10 350.097656 10 344.574219 C 10 339.050781 14.476562 334.574219 20 334.574219 C 25.523438 334.574219 30 339.050781 30 344.574219 \"/>\n",
       "<path style=\"fill-rule:nonzero;fill:rgb(100%,0%,0%);fill-opacity:1;stroke-width:1;stroke-linecap:butt;stroke-linejoin:miter;stroke:rgb(0%,0%,0%);stroke-opacity:1;stroke-miterlimit:10;\" d=\"M 56.714844 497.050781 C 56.714844 502.574219 52.238281 507.050781 46.714844 507.050781 C 41.191406 507.050781 36.714844 502.574219 36.714844 497.050781 C 36.714844 491.527344 41.191406 487.050781 46.714844 487.050781 C 52.238281 487.050781 56.714844 491.527344 56.714844 497.050781 \"/>\n",
       "<path style=\"fill-rule:nonzero;fill:rgb(100%,0%,0%);fill-opacity:1;stroke-width:1;stroke-linecap:butt;stroke-linejoin:miter;stroke:rgb(0%,0%,0%);stroke-opacity:1;stroke-miterlimit:10;\" d=\"M 136.042969 190.558594 C 136.042969 196.082031 131.566406 200.558594 126.042969 200.558594 C 120.519531 200.558594 116.042969 196.082031 116.042969 190.558594 C 116.042969 185.035156 120.519531 180.558594 126.042969 180.558594 C 131.566406 180.558594 136.042969 185.035156 136.042969 190.558594 \"/>\n",
       "<path style=\"fill-rule:nonzero;fill:rgb(100%,0%,0%);fill-opacity:1;stroke-width:1;stroke-linecap:butt;stroke-linejoin:miter;stroke:rgb(0%,0%,0%);stroke-opacity:1;stroke-miterlimit:10;\" d=\"M 462.722656 513.78125 C 462.722656 519.304688 458.246094 523.78125 452.722656 523.78125 C 447.199219 523.78125 442.722656 519.304688 442.722656 513.78125 C 442.722656 508.257812 447.199219 503.78125 452.722656 503.78125 C 458.246094 503.78125 462.722656 508.257812 462.722656 513.78125 \"/>\n",
       "<path style=\"fill-rule:nonzero;fill:rgb(100%,0%,0%);fill-opacity:1;stroke-width:1;stroke-linecap:butt;stroke-linejoin:miter;stroke:rgb(0%,0%,0%);stroke-opacity:1;stroke-miterlimit:10;\" d=\"M 172.839844 559.992188 C 172.839844 565.515625 168.363281 569.992188 162.839844 569.992188 C 157.320312 569.992188 152.839844 565.515625 152.839844 559.992188 C 152.839844 554.46875 157.320312 549.992188 162.839844 549.992188 C 168.363281 549.992188 172.839844 554.46875 172.839844 559.992188 \"/>\n",
       "<path style=\"fill-rule:nonzero;fill:rgb(100%,0%,0%);fill-opacity:1;stroke-width:1;stroke-linecap:butt;stroke-linejoin:miter;stroke:rgb(0%,0%,0%);stroke-opacity:1;stroke-miterlimit:10;\" d=\"M 101.515625 20 C 101.515625 25.523438 97.035156 30 91.515625 30 C 85.992188 30 81.515625 25.523438 81.515625 20 C 81.515625 14.476562 85.992188 10 91.515625 10 C 97.035156 10 101.515625 14.476562 101.515625 20 \"/>\n",
       "<path style=\"fill-rule:nonzero;fill:rgb(100%,0%,0%);fill-opacity:1;stroke-width:1;stroke-linecap:butt;stroke-linejoin:miter;stroke:rgb(0%,0%,0%);stroke-opacity:1;stroke-miterlimit:10;\" d=\"M 284.085938 247.582031 C 284.085938 253.105469 279.609375 257.582031 274.085938 257.582031 C 268.5625 257.582031 264.085938 253.105469 264.085938 247.582031 C 264.085938 242.058594 268.5625 237.582031 274.085938 237.582031 C 279.609375 237.582031 284.085938 242.058594 284.085938 247.582031 \"/>\n",
       "<path style=\"fill-rule:nonzero;fill:rgb(100%,0%,0%);fill-opacity:1;stroke-width:1;stroke-linecap:butt;stroke-linejoin:miter;stroke:rgb(0%,0%,0%);stroke-opacity:1;stroke-miterlimit:10;\" d=\"M 590 580 C 590 585.523438 585.523438 590 580 590 C 574.476562 590 570 585.523438 570 580 C 570 574.476562 574.476562 570 580 570 C 585.523438 570 590 574.476562 590 580 \"/>\n",
       "</g>\n",
       "</svg>\n"
      ],
      "text/plain": [
       "<igraph.drawing.Plot at 0x7f8e5267a6a0>"
      ]
     },
     "execution_count": 156,
     "metadata": {},
     "output_type": "execute_result"
    }
   ],
   "source": [
    "random.seed(1337)\n",
    "g = igraph.Graph.Barabasi(10)   \n",
    "g_adjlist = g.get_adjlist()\n",
    "igraph.drawing.plot(g)"
   ]
  },
  {
   "cell_type": "code",
   "execution_count": 154,
   "metadata": {},
   "outputs": [
    {
     "data": {
      "text/plain": [
       "[32.0, 14.0, 0.0, 0.0, 8.0, 8.0, 0.0, 0.0, 0.0, 0.0]"
      ]
     },
     "execution_count": 154,
     "metadata": {},
     "output_type": "execute_result"
    }
   ],
   "source": [
    "all_vertices_betweenness_centrality(g_adjlist)"
   ]
  },
  {
   "cell_type": "code",
   "execution_count": 155,
   "metadata": {},
   "outputs": [
    {
     "data": {
      "text/plain": [
       "[32.0, 14.0, 0.0, 0.0, 8.0, 8.0, 0.0, 0.0, 0.0, 0.0]"
      ]
     },
     "execution_count": 155,
     "metadata": {},
     "output_type": "execute_result"
    }
   ],
   "source": [
    "g.betweenness(directed=False)"
   ]
  }
 ],
 "metadata": {
  "kernelspec": {
   "display_name": "Python 3",
   "language": "python",
   "name": "python3"
  },
  "language_info": {
   "codemirror_mode": {
    "name": "ipython",
    "version": 3
   },
   "file_extension": ".py",
   "mimetype": "text/x-python",
   "name": "python",
   "nbconvert_exporter": "python",
   "pygments_lexer": "ipython3",
   "version": "3.5.2"
  }
 },
 "nbformat": 4,
 "nbformat_minor": 2
}
