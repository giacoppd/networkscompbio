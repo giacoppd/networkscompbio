{
 "cells": [
  {
   "cell_type": "markdown",
   "metadata": {},
   "source": [
    "# CS446/519 - Class Session 19 - Correlation network\n",
    "\n",
    "In this class session we are going to analyze gene expression data from a human bladder cancer cohort. We will load a data matrix of expression measurements of 4,473 genes in 414 different bladder cancer samples. These genes have been selected because they are differentially expressed between normal bladder and bladder cancer (thus more likely to have a function in bladder cancer specifically), but the columns in the data matrix are restricted to bladder cancer samples (not normal bladder) because we want to obtain a network representing variation across cancers. The measurements in the matrix have already been normalized to account for inter-sample heterogeneity and then log2 transformed. Our job is to compute Pearson correlation coefficients between all pairs of genes, obtain Fisher-transformed z-scores for all pairs of genes, test each pair of genes for significance of the z score, adjust for multiple hypothesis testing, filter to eliminate any pair for which R < 0.75 or Padj > 0.01, load the graph into igraph, and plot the degree distribution on log-log scale.  Does the network look to be scale-free?  What is it's best-fit scaling exponent?"
   ]
  },
  {
   "cell_type": "markdown",
   "metadata": {},
   "source": [
    "Read the tab-deliminted text file of gene expression measurements (rows correspond to genes, columns correspond to bladder tumor samples). (use `read.table` with `row.names=1`). As always, sanity check that the file that you loaded has the expected dimensions (4,473 x 414)"
   ]
  },
  {
   "cell_type": "code",
   "execution_count": 1,
   "metadata": {
    "collapsed": false
   },
   "outputs": [
    {
     "data": {
      "text/html": [
       "<ol class=list-inline>\n",
       "\t<li>4473</li>\n",
       "\t<li>414</li>\n",
       "</ol>\n"
      ],
      "text/latex": [
       "\\begin{enumerate*}\n",
       "\\item 4473\n",
       "\\item 414\n",
       "\\end{enumerate*}\n"
      ],
      "text/markdown": [
       "1. 4473\n",
       "2. 414\n",
       "\n",
       "\n"
      ],
      "text/plain": [
       "[1] 4473  414"
      ]
     },
     "metadata": {},
     "output_type": "display_data"
    }
   ],
   "source": [
    "gene_matrix_for_network <- read.table(\"shared/bladder_cancer_genes_tcga.txt\",\n",
    "                                     sep=\"\\t\",\n",
    "                                     header=TRUE,\n",
    "                                     row.names=1,\n",
    "                                     stringsAsFactors=FALSE)\n",
    "dim(gene_matrix_for_network)"
   ]
  },
  {
   "cell_type": "markdown",
   "metadata": {},
   "source": [
    "Compute the 4,473 x 4,473 matrix of gene-gene Pearson correlation coefficients, using `cor` (don't forget that `cor` computes correlations between columns of its matrix argument, so you will have to transpose the data matrix using the `t` function before passing it to `cor`). Set the diagonal elements and upper-triangle of the matrix to zero (you will want to use the functions `diag` and `upper.tri`). Get the indices of the entries of the matrix for which R >= 0.75 (you will want to use the function `which`)."
   ]
  },
  {
   "cell_type": "code",
   "execution_count": 2,
   "metadata": {
    "collapsed": false
   },
   "outputs": [],
   "source": [
    "gene_matrix_for_network_cor <- cor(t(gene_matrix_for_network))\n",
    "diag(gene_matrix_for_network_cor) <- 0\n",
    "gene_matrix_for_network_cor[upper.tri(gene_matrix_for_network_cor)] <- 0\n",
    "inds_correl_above_thresh <- which(gene_matrix_for_network_cor >= 0.75)"
   ]
  },
  {
   "cell_type": "markdown",
   "metadata": {},
   "source": [
    "Fisher-transform the correlation coefficients for which R >= 0.75, to get z scores as a numeric vector `z_scores`. Delete the correlation matrix object in order to save memory (we won't need it from here on out)."
   ]
  },
  {
   "cell_type": "code",
   "execution_count": 3,
   "metadata": {
    "collapsed": false
   },
   "outputs": [],
   "source": [
    "z_scores <- 0.5*log((1+gene_matrix_for_network_cor[inds_correl_above_thresh])/\n",
    "                    (1-gene_matrix_for_network_cor[inds_correl_above_thresh]))\n",
    "rm(gene_matrix_for_network_cor)"
   ]
  },
  {
   "cell_type": "markdown",
   "metadata": {},
   "source": [
    "Assume that under the null hypothesis that two genes are independent, then sqrt(M-3)z for the pair of genes is an independent sample from the normal distribution with zero mean and unit variance, where M is the number of samples used to compute the Pearson correlation coefficient (i.e., M = 414). For each entry in `z_scores` compute a P value as the area under two tails of the normal distribution N(x),  where the two tails are x < -sqrt(M-3)z and x > sqrt(M-3)z. (You'll know you are doing it right if z=0 means you get a P value of 1).  You will want to use the functions `sqrt`, `abs`, and `pnorm`."
   ]
  },
  {
   "cell_type": "code",
   "execution_count": 4,
   "metadata": {
    "collapsed": false
   },
   "outputs": [],
   "source": [
    "M <- ncol(gene_matrix_for_network)\n",
    "P_values <- 2*(pnorm(-abs(z_scores)*sqrt(M-3)))"
   ]
  },
  {
   "cell_type": "markdown",
   "metadata": {},
   "source": [
    "Adjust the P values for multiple hypothesis testing, using the `p.adjust` function with `method=\"hochberg\"`"
   ]
  },
  {
   "cell_type": "code",
   "execution_count": 5,
   "metadata": {
    "collapsed": true
   },
   "outputs": [],
   "source": [
    "P_values_adj <- p.adjust(P_values, method=\"hochberg\")"
   ]
  },
  {
   "cell_type": "markdown",
   "metadata": {},
   "source": [
    "Verify that we don't need to drop any entries due to the adjusted P value not being small enough (use `which` and `length`); this should produce zero since we have M=414 samples per gene."
   ]
  },
  {
   "cell_type": "code",
   "execution_count": 6,
   "metadata": {
    "collapsed": false
   },
   "outputs": [
    {
     "data": {
      "text/html": [
       "0"
      ],
      "text/latex": [
       "0"
      ],
      "text/markdown": [
       "0"
      ],
      "text/plain": [
       "[1] 0"
      ]
     },
     "metadata": {},
     "output_type": "display_data"
    }
   ],
   "source": [
    "length(which(P_values_adj > 0.01))"
   ]
  },
  {
   "cell_type": "markdown",
   "metadata": {},
   "source": [
    "Make an undirected graph from the row/column indices of the (upper-triangle) gene pairs whose  correlations were above our threshold (you'll want to use the `arrayInd`, `cbind`, and `graph_from_data_frame` functions for this). Print a summary of the network, as a sanity check. Make sure to specify `directed=FALSE` when you construct the graph."
   ]
  },
  {
   "cell_type": "code",
   "execution_count": 7,
   "metadata": {
    "collapsed": false
   },
   "outputs": [
    {
     "name": "stderr",
     "output_type": "stream",
     "text": [
      "\n",
      "Attaching package: 'igraph'\n",
      "\n",
      "The following objects are masked from 'package:stats':\n",
      "\n",
      "    decompose, spectrum\n",
      "\n",
      "The following object is masked from 'package:base':\n",
      "\n",
      "    union\n",
      "\n"
     ]
    },
    {
     "name": "stdout",
     "output_type": "stream",
     "text": [
      "IGRAPH UN-- 1394 9916 -- \n",
      "+ attr: name (v/c)\n"
     ]
    }
   ],
   "source": [
    "N <- nrow(gene_matrix_for_network)\n",
    "library(igraph)\n",
    "final_network <- graph_from_data_frame(cbind(arrayInd(inds_correl_above_thresh, \n",
    "                                                      .dim=c(N,N))), directed=FALSE)\n",
    "summary(final_network)"
   ]
  },
  {
   "cell_type": "markdown",
   "metadata": {},
   "source": [
    "Plot the degree distribution on log-log scale; does it appear to be scale-free?"
   ]
  },
  {
   "cell_type": "code",
   "execution_count": 8,
   "metadata": {
    "collapsed": false
   },
   "outputs": [
    {
     "name": "stderr",
     "output_type": "stream",
     "text": [
      "Warning message in xy.coords(x, y, xlabel, ylabel, log):\n",
      "\"61 y values <= 0 omitted from logarithmic plot\""
     ]
    },
    {
     "data": {
      "image/png": "[encoded data removed]",
      "text/plain": [
       "plot without title"
      ]
     },
     "metadata": {},
     "output_type": "display_data"
    }
   ],
   "source": [
    "plot(degree.distribution(final_network), log=\"xy\", xlab=\"k\", ylab=\"Pk\")"
   ]
  },
  {
   "cell_type": "code",
   "execution_count": 9,
   "metadata": {
    "collapsed": false
   },
   "outputs": [
    {
     "data": {
      "text/html": [
       "2.74535775518688"
      ],
      "text/latex": [
       "2.74535775518688"
      ],
      "text/markdown": [
       "2.74535775518688"
      ],
      "text/plain": [
       "[1] 2.745358"
      ]
     },
     "metadata": {},
     "output_type": "display_data"
    }
   ],
   "source": [
    "power.law.fit(degree(final_network))$alpha"
   ]
  },
  {
   "cell_type": "code",
   "execution_count": null,
   "metadata": {
    "collapsed": true
   },
   "outputs": [],
   "source": []
  }
 ],
 "metadata": {
  "kernelspec": {
   "display_name": "R",
   "language": "R",
   "name": "ir"
  },
  "language_info": {
   "codemirror_mode": "r",
   "file_extension": ".r",
   "mimetype": "text/x-r-source",
   "name": "R",
   "pygments_lexer": "r",
   "version": "3.2.2"
  }
 },
 "nbformat": 4,
 "nbformat_minor": 1
}
