{
 "cells": [
  {
   "cell_type": "markdown",
   "metadata": {},
   "source": [
    "# Class Session 17 Exercise:\n",
    "## Comparing the histograms of local clustering coefficients of date hubs and party hubs\n",
    "\n",
    "load the file of hub types `shared/han_hub_data.txt` (two-column TSV file, first column is the protein name, and second column contains `date` or `party`)"
   ]
  },
  {
   "cell_type": "code",
   "execution_count": 3,
   "metadata": {
    "collapsed": true
   },
   "outputs": [],
   "source": [
    "import pandas\n",
    "hub_data = pandas.read_csv(\"shared/han_hub_data.txt\", sep=\"\\t\", names=[\"Protein\",\"HubType\"])"
   ]
  },
  {
   "cell_type": "markdown",
   "metadata": {},
   "source": [
    "load the file of network edges `shared/han_network_edges.txt` (two-column file, with first column is the first protein in the interacting pair, and the second column is the second protein in the interacting pair)"
   ]
  },
  {
   "cell_type": "code",
   "execution_count": 4,
   "metadata": {
    "collapsed": true
   },
   "outputs": [],
   "source": [
    "edge_data = pandas.read_csv(\"shared/han_network_edges.txt\", sep=\"\\t\", names=[\"ProteinA\",\"ProteinB\"])"
   ]
  },
  {
   "cell_type": "markdown",
   "metadata": {},
   "source": [
    "make an undirected igraph `Graph` from the edgelist data; show summary data on the graph as a sanity-check"
   ]
  },
  {
   "cell_type": "code",
   "execution_count": 7,
   "metadata": {
    "collapsed": false
   },
   "outputs": [
    {
     "data": {
      "text/plain": [
       "'IGRAPH UN-- 1346 2524 -- \\n+ attr: name (v)'"
      ]
     },
     "execution_count": 7,
     "metadata": {},
     "output_type": "execute_result"
    }
   ],
   "source": [
    "import igraph\n",
    "ppi_graph = igraph.Graph.TupleList(edge_data.values.tolist(), directed=False)\n",
    "ppi_graph.summary()"
   ]
  },
  {
   "cell_type": "markdown",
   "metadata": {},
   "source": [
    "get the igraph vertex indexes of the proteins that are date hubs or party hubs; as a sanity check, print out the number of date hubs and party hubs that you find"
   ]
  },
  {
   "cell_type": "code",
   "execution_count": 47,
   "metadata": {
    "collapsed": false
   },
   "outputs": [],
   "source": [
    "graph_vertices = ppi_graph.vs()[\"name\"]\n",
    "graph_vertices_df = pandas.DataFrame(pandas.Series(graph_vertices))\n",
    "graph_vertices_df.columns = [\"Protein\"]\n",
    "graph_vertices_df = graph_vertices_df.merge(hub_data, how='outer', on=\"Protein\")\n",
    "import numpy\n",
    "vertex_types_np = numpy.array(graph_vertices_df[\"HubType\"].values.tolist())\n",
    "date_hub_inds = numpy.where(vertex_types_np == \"date\")\n",
    "party_hub_inds = numpy.where(vertex_types_np == \"party\")"
   ]
  },
  {
   "cell_type": "markdown",
   "metadata": {},
   "source": [
    "use the `transitivity` function in igraph to compute the local clustering coefficients for every vertex in the graph; print out the first six components of the vector of data returned, as a sanity check"
   ]
  },
  {
   "cell_type": "code",
   "execution_count": 46,
   "metadata": {
    "collapsed": false
   },
   "outputs": [],
   "source": [
    "ci_values = ppi_graph.transitivity_local_undirected()\n",
    "ci_values_np = numpy.array(ci_values)\n",
    "ci_values_date_hubs = ci_values_np[date_hub_inds]\n",
    "ci_values_party_hubs = ci_values_np[party_hub_inds]"
   ]
  },
  {
   "cell_type": "markdown",
   "metadata": {},
   "source": [
    "Plot the histograms of the local clustering coefficients of the \"date hubs\" and the \"party hubs\". "
   ]
  },
  {
   "cell_type": "code",
   "execution_count": 59,
   "metadata": {
    "collapsed": false
   },
   "outputs": [
    {
     "data": {
      "image/png": "[encoded data removed]",
      "text/plain": [
       "<matplotlib.figure.Figure at 0x7fe461df3ba8>"
      ]
     },
     "metadata": {},
     "output_type": "display_data"
    }
   ],
   "source": [
    "import matplotlib.pyplot\n",
    "matplotlib.pyplot.hist(ci_values_date_hubs, normed=1, alpha=0.5, label=\"date\")\n",
    "matplotlib.pyplot.hist(ci_values_party_hubs, normed=1, alpha=0.5, label=\"party\")\n",
    "matplotlib.pyplot.legend(loc=\"upper center\")\n",
    "matplotlib.pyplot.xlabel(\"Ci\")\n",
    "matplotlib.pyplot.ylabel(\"frequency\")\n",
    "matplotlib.pyplot.show()"
   ]
  },
  {
   "cell_type": "code",
   "execution_count": null,
   "metadata": {
    "collapsed": true
   },
   "outputs": [],
   "source": []
  }
 ],
 "metadata": {
  "kernelspec": {
   "display_name": "Python 3",
   "language": "python",
   "name": "python3"
  },
  "language_info": {
   "codemirror_mode": {
    "name": "ipython",
    "version": 3
   },
   "file_extension": ".py",
   "mimetype": "text/x-python",
   "name": "python",
   "nbconvert_exporter": "python",
   "pygments_lexer": "ipython3",
   "version": "3.4.3"
  }
 },
 "nbformat": 4,
 "nbformat_minor": 1
}
