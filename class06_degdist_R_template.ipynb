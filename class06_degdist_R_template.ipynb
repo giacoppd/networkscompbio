{
 "cells": [
  {
   "cell_type": "markdown",
   "metadata": {},
   "source": [
    "# CS446/546 - Class Session 6 - Degree Distribution\n",
    "\n",
    "In this class session we are going to plot the degree distribution of the undirected human\n",
    "protein-protein interaction network (PPI), without using `igraph`. We'll obtain the interaction data from the Pathway Commons SIF file (in the `shared/` folder) and we'll \n",
    "manually compute the degree of each vertex (protein) in the network. We'll then compute\n",
    "the count `N(k)` of vertices that have a given vertex degree `k`, for all `k` values.\n",
    "Finally, we'll plot the degree distribution and discuss whether it is consistent with the \n",
    "results obtained in the Jeong et al. article for the yeast PPI."
   ]
  },
  {
   "cell_type": "markdown",
   "metadata": {},
   "source": [
    "We're going to use `ggplot2` in this notebook"
   ]
  },
  {
   "cell_type": "code",
   "execution_count": 53,
   "metadata": {},
   "outputs": [],
   "source": [
    "library(ggplot2)"
   ]
  },
  {
   "cell_type": "markdown",
   "metadata": {},
   "source": [
    "Step 1:  load in the SIF file as the data frame `sif_data` (with column names `species1`, `interaction_type`, and `species2`), using the function `read.table`"
   ]
  },
  {
   "cell_type": "code",
   "execution_count": 54,
   "metadata": {},
   "outputs": [],
   "source": []
  },
  {
   "cell_type": "markdown",
   "metadata": {},
   "source": [
    "Let's take a look at the top of the data frame, using the `head` function:"
   ]
  },
  {
   "cell_type": "code",
   "execution_count": 69,
   "metadata": {},
   "outputs": [
    {
     "data": {
      "text/html": [
       "<table>\n",
       "<thead><tr><th scope=col>species1</th><th scope=col>interaction_type</th><th scope=col>species2</th></tr></thead>\n",
       "<tbody>\n",
       "\t<tr><td>A1BG                  </td><td>controls-expression-of</td><td>A2M                   </td></tr>\n",
       "\t<tr><td>A1BG                  </td><td>interacts-with        </td><td>ABCC6                 </td></tr>\n",
       "\t<tr><td>A1BG                  </td><td>interacts-with        </td><td>ACE2                  </td></tr>\n",
       "\t<tr><td>A1BG                  </td><td>interacts-with        </td><td>ADAM10                </td></tr>\n",
       "\t<tr><td>A1BG                  </td><td>interacts-with        </td><td>ADAM17                </td></tr>\n",
       "\t<tr><td>A1BG                  </td><td>interacts-with        </td><td>ADAM9                 </td></tr>\n",
       "</tbody>\n",
       "</table>\n"
      ],
      "text/latex": [
       "\\begin{tabular}{r|lll}\n",
       " species1 & interaction\\_type & species2\\\\\n",
       "\\hline\n",
       "\t A1BG                   & controls-expression-of & A2M                   \\\\\n",
       "\t A1BG                   & interacts-with         & ABCC6                 \\\\\n",
       "\t A1BG                   & interacts-with         & ACE2                  \\\\\n",
       "\t A1BG                   & interacts-with         & ADAM10                \\\\\n",
       "\t A1BG                   & interacts-with         & ADAM17                \\\\\n",
       "\t A1BG                   & interacts-with         & ADAM9                 \\\\\n",
       "\\end{tabular}\n"
      ],
      "text/markdown": [
       "\n",
       "species1 | interaction_type | species2 | \n",
       "|---|---|---|---|---|---|\n",
       "| A1BG                   | controls-expression-of | A2M                    | \n",
       "| A1BG                   | interacts-with         | ABCC6                  | \n",
       "| A1BG                   | interacts-with         | ACE2                   | \n",
       "| A1BG                   | interacts-with         | ADAM10                 | \n",
       "| A1BG                   | interacts-with         | ADAM17                 | \n",
       "| A1BG                   | interacts-with         | ADAM9                  | \n",
       "\n",
       "\n"
      ],
      "text/plain": [
       "  species1 interaction_type       species2\n",
       "1 A1BG     controls-expression-of A2M     \n",
       "2 A1BG     interacts-with         ABCC6   \n",
       "3 A1BG     interacts-with         ACE2    \n",
       "4 A1BG     interacts-with         ADAM10  \n",
       "5 A1BG     interacts-with         ADAM17  \n",
       "6 A1BG     interacts-with         ADAM9   "
      ]
     },
     "metadata": {},
     "output_type": "display_data"
    }
   ],
   "source": [
    "head(sif_data)"
   ]
  },
  {
   "cell_type": "markdown",
   "metadata": {},
   "source": [
    "Step 2:  restrict the interactions to undirected protein-protein interactions. We will do this by subsetting the data frame to only rows for which the `interaction_type` column contains either `in-complex-with` or `interacts-with`. We'll also subset the data frame to include only the `species1` and `species2` columns.  There are two ways to do it, (i) using standard indexing and (ii) using the `subset` function."
   ]
  },
  {
   "cell_type": "markdown",
   "metadata": {},
   "source": [
    "Here is how you would do it using standard indexing:"
   ]
  },
  {
   "cell_type": "code",
   "execution_count": 55,
   "metadata": {},
   "outputs": [],
   "source": [
    "interac_ppi <- sif_data[sif_data$interaction_type %in% c(\"in-complex-with\",\n",
    "                                                         \"interacts-with\"), c(1,3)]"
   ]
  },
  {
   "cell_type": "markdown",
   "metadata": {},
   "source": [
    "Now you can try it using the `subset` function; this code is arguably more \"readable\":"
   ]
  },
  {
   "cell_type": "code",
   "execution_count": 56,
   "metadata": {},
   "outputs": [],
   "source": []
  },
  {
   "cell_type": "markdown",
   "metadata": {},
   "source": [
    "Use the `head` function to show the first few rows of the data frame, and use the `nrow` function to see how many rows it is:"
   ]
  },
  {
   "cell_type": "code",
   "execution_count": 70,
   "metadata": {},
   "outputs": [
    {
     "data": {
      "text/html": [
       "<table>\n",
       "<thead><tr><th></th><th scope=col>species1</th><th scope=col>species2</th></tr></thead>\n",
       "<tbody>\n",
       "\t<tr><th scope=row>2</th><td>A1BG  </td><td>ABCC6 </td></tr>\n",
       "\t<tr><th scope=row>3</th><td>A1BG  </td><td>ACE2  </td></tr>\n",
       "\t<tr><th scope=row>4</th><td>A1BG  </td><td>ADAM10</td></tr>\n",
       "\t<tr><th scope=row>5</th><td>A1BG  </td><td>ADAM17</td></tr>\n",
       "\t<tr><th scope=row>6</th><td>A1BG  </td><td>ADAM9 </td></tr>\n",
       "\t<tr><th scope=row>7</th><td>A1BG  </td><td>AGO1  </td></tr>\n",
       "</tbody>\n",
       "</table>\n"
      ],
      "text/latex": [
       "\\begin{tabular}{r|ll}\n",
       "  & species1 & species2\\\\\n",
       "\\hline\n",
       "\t2 & A1BG   & ABCC6 \\\\\n",
       "\t3 & A1BG   & ACE2  \\\\\n",
       "\t4 & A1BG   & ADAM10\\\\\n",
       "\t5 & A1BG   & ADAM17\\\\\n",
       "\t6 & A1BG   & ADAM9 \\\\\n",
       "\t7 & A1BG   & AGO1  \\\\\n",
       "\\end{tabular}\n"
      ],
      "text/markdown": [
       "\n",
       "| <!--/--> | species1 | species2 | \n",
       "|---|---|---|---|---|---|\n",
       "| 2 | A1BG   | ABCC6  | \n",
       "| 3 | A1BG   | ACE2   | \n",
       "| 4 | A1BG   | ADAM10 | \n",
       "| 5 | A1BG   | ADAM17 | \n",
       "| 6 | A1BG   | ADAM9  | \n",
       "| 7 | A1BG   | AGO1   | \n",
       "\n",
       "\n"
      ],
      "text/plain": [
       "  species1 species2\n",
       "2 A1BG     ABCC6   \n",
       "3 A1BG     ACE2    \n",
       "4 A1BG     ADAM10  \n",
       "5 A1BG     ADAM17  \n",
       "6 A1BG     ADAM9   \n",
       "7 A1BG     AGO1    "
      ]
     },
     "metadata": {},
     "output_type": "display_data"
    },
    {
     "data": {
      "text/html": [
       "508480"
      ],
      "text/latex": [
       "508480"
      ],
      "text/markdown": [
       "508480"
      ],
      "text/plain": [
       "[1] 508480"
      ]
     },
     "metadata": {},
     "output_type": "display_data"
    }
   ],
   "source": []
  },
  {
   "cell_type": "markdown",
   "metadata": {},
   "source": [
    "Step 3: for each interaction, reorder `species1` and `species2` (if necessary) so that\n",
    "`species1 < species2` (in terms of lexicographic order); we are doing this because there are many cases where a pair of proteins \"X\" and \"Y\" appear in the database as both [X,Y] and [Y,X], and we want those edges to be recognized as the same so that they are not separately counted. We'll do this using `subset` twice (once for `species1 < species2` and once for `species1 >= species2`) and then stacking the two data frames that were returned from the two calls to `subset`, using the `rbind` function.  Save it as a data frame `interac_ppi_ordered`."
   ]
  },
  {
   "cell_type": "code",
   "execution_count": 58,
   "metadata": {},
   "outputs": [],
   "source": []
  },
  {
   "cell_type": "markdown",
   "metadata": {},
   "source": [
    "The number of rows in `interac_ppi_ordered` should be the same as for `interac_ppi`; let's verify that."
   ]
  },
  {
   "cell_type": "code",
   "execution_count": 71,
   "metadata": {},
   "outputs": [
    {
     "data": {
      "text/html": [
       "508480"
      ],
      "text/latex": [
       "508480"
      ],
      "text/markdown": [
       "508480"
      ],
      "text/plain": [
       "[1] 508480"
      ]
     },
     "metadata": {},
     "output_type": "display_data"
    }
   ],
   "source": [
    "nrow(interac_ppi_ordered)"
   ]
  },
  {
   "cell_type": "markdown",
   "metadata": {},
   "source": [
    "Step 4: get only the unique interaction pairs of proteins (ignoring the interaction type), using the `unique` function; save as the object `interac_ppi_unique`."
   ]
  },
  {
   "cell_type": "code",
   "execution_count": 60,
   "metadata": {},
   "outputs": [],
   "source": []
  },
  {
   "cell_type": "markdown",
   "metadata": {},
   "source": [
    "How many rows do we have now? Let's print it out"
   ]
  },
  {
   "cell_type": "code",
   "execution_count": 61,
   "metadata": {},
   "outputs": [
    {
     "data": {
      "text/html": [
       "475553"
      ],
      "text/latex": [
       "475553"
      ],
      "text/markdown": [
       "475553"
      ],
      "text/plain": [
       "[1] 475553"
      ]
     },
     "metadata": {},
     "output_type": "display_data"
    }
   ],
   "source": [
    "nrow(interac_ppi_unique)"
   ]
  },
  {
   "cell_type": "markdown",
   "metadata": {},
   "source": [
    "Step 5: compute the degree of each vertex.  We'll do this by making a single character vector that is the concatenation of the `species1` and `species2` columns of `interac_ppi_unique`, and then we'll use the `table` function to compute the number of times each protein name occurs (you could also do the same thing by using the `sort` and `rle` functions, but `table` is easier to remember). Save the results as `vertex_degrees`."
   ]
  },
  {
   "cell_type": "code",
   "execution_count": 73,
   "metadata": {},
   "outputs": [],
   "source": []
  },
  {
   "cell_type": "markdown",
   "metadata": {},
   "source": [
    "Let's have a look at `vertex_degrees`"
   ]
  },
  {
   "cell_type": "code",
   "execution_count": 74,
   "metadata": {},
   "outputs": [
    {
     "data": {
      "text/plain": [
       "\n",
       "  A1BG   A1CF    A2M  A2ML1 A4GALT  A4GNT \n",
       "    59     34    171      4      6     19 "
      ]
     },
     "metadata": {},
     "output_type": "display_data"
    }
   ],
   "source": [
    "head(vertex_degrees)"
   ]
  },
  {
   "cell_type": "markdown",
   "metadata": {},
   "source": [
    "Step 6: Calculate the histogram of N(k) vs. k, \"suggesting\" 30 bin \"breaks\" (i.e., bin edges) to R; `hist` will actually pick a different number of bins based on its own histogramming algorithm, so we'll find out exactly how many bin breaks that `hist` picked and then we'll call it `nbreaks_actual`, and we'll work with that. "
   ]
  },
  {
   "cell_type": "code",
   "execution_count": 63,
   "metadata": {},
   "outputs": [],
   "source": [
    "nbreaks <- 30\n",
    "hist_res <- hist(vertex_degrees, plot=FALSE, nclass=nbreaks)\n",
    "hist_counts <- hist_res$counts\n",
    "hist_breaks <- hist_res$breaks\n",
    "nbreaks_actual <- length(hist_breaks)\n",
    "kvals <- (hist_breaks[1:(nbreaks_actual-1)] + hist_breaks[-1])/2"
   ]
  },
  {
   "cell_type": "markdown",
   "metadata": {},
   "source": [
    "Step 7: Plot `N(k)` vs. `k`, on log-log scale.  Restrict the horizontal axis to only values up to (but not including) the first zero value of `N(k)`."
   ]
  },
  {
   "cell_type": "code",
   "execution_count": 64,
   "metadata": {},
   "outputs": [
    {
     "data": {
      "image/png": "[encoded data removed]",
      "text/plain": [
       "Plot with title \"\""
      ]
     },
     "metadata": {},
     "output_type": "display_data"
    }
   ],
   "source": [
    "indend <- min(which(hist_counts == 0))\n",
    "indend <- if (length(indend) == 0) { length(kvals) } else { indend - 1 }\n",
    "plot(kvals[1:indend],\n",
    "     hist_counts[1:indend],\n",
    "     type=\"p\",\n",
    "     main=\"\",\n",
    "     log=\"xy\",\n",
    "     xlab=expression(k),\n",
    "     ylab=expression(N[k]))"
   ]
  },
  {
   "cell_type": "markdown",
   "metadata": {},
   "source": [
    "Let's also plot the data using `ggplot2` instead of R base graphics.  We'll use the functions `ggplot`, `geom_point`"
   ]
  },
  {
   "cell_type": "code",
   "execution_count": 75,
   "metadata": {},
   "outputs": [
    {
     "data": {
      "image/png": "[encoded data removed]",
      "text/plain": [
       "plot without title"
      ]
     },
     "metadata": {},
     "output_type": "display_data"
    }
   ],
   "source": [
    "print(ggplot(data=data.frame(k=kvals[1:indend], Nk=hist_counts[1:indend]), aes(x=k, y=Nk)) + \n",
    "      geom_point() + \n",
    "      theme_classic(base_size=24) +\n",
    "      scale_x_log10() +\n",
    "      scale_y_log10() +\n",
    "      ylab(expression(N[k])))"
   ]
  },
  {
   "cell_type": "markdown",
   "metadata": {},
   "source": [
    "Step 8:  Do a linear fit to the log10(N(k)) vs. log10(k) data.  Restrict your analysis to the k bin values for which the log(Nk) vs. log(k) relationship is linear-looking, which is the first four points on the plot.  You'll use `lm` to fit the linear model (make sure to log10 transform the data using the `log10` function), and `summary` to print the results from the linear model.  "
   ]
  },
  {
   "cell_type": "code",
   "execution_count": 76,
   "metadata": {},
   "outputs": [
    {
     "data": {
      "text/plain": [
       "\n",
       "Call:\n",
       "lm(formula = log10Nk ~ log10k, data = degdist_df)\n",
       "\n",
       "Residuals:\n",
       "       1        2        3        4 \n",
       "-0.01571  0.02675  0.02349 -0.03453 \n",
       "\n",
       "Coefficients:\n",
       "            Estimate Std. Error t value Pr(>|t|)    \n",
       "(Intercept)  7.72896    0.12811   60.33 0.000275 ***\n",
       "log10k      -2.08465    0.05752  -36.24 0.000760 ***\n",
       "---\n",
       "Signif. codes:  0 '***' 0.001 '**' 0.01 '*' 0.05 '.' 0.1 ' ' 1\n",
       "\n",
       "Residual standard error: 0.03679 on 2 degrees of freedom\n",
       "Multiple R-squared:  0.9985,\tAdjusted R-squared:  0.9977 \n",
       "F-statistic:  1314 on 1 and 2 DF,  p-value: 0.0007604\n"
      ]
     },
     "metadata": {},
     "output_type": "display_data"
    }
   ],
   "source": [
    "# put the data from the linear range, into a data frame \n",
    "degdist_df <- data.frame(log10Nk=log10(hist_counts[1:4]),\n",
    "                         log10k=log10(kvals[1:4]))\n",
    "\n",
    "# linear regression\n",
    "summary(lm(log10Nk ~ log10k, \n",
    "           data=degdist_df))"
   ]
  },
  {
   "cell_type": "markdown",
   "metadata": {},
   "source": [
    "What is the slope?  Can you find it in the `summary` output?  (Hint:  it's under the \"Coefficients\" part).\n",
    "\n",
    "Now let's compute the slope for the degree distribution Fig. 1b in the Jeong et al. article, for the yeast PPI.  The change in ordinate over the linear range is about -6.5 in units of natural logarithm. The change in abscissa over the linear range is approximately log(45)-log(2), so we can compute the Jeong et al. slope thus:"
   ]
  },
  {
   "cell_type": "code",
   "execution_count": 1,
   "metadata": {},
   "outputs": [],
   "source": [
    "round(-6.5/(log(45)-log(2)), digits=2)"
   ]
  },
  {
   "cell_type": "markdown",
   "metadata": {},
   "source": [
    "How close is the human PPI slope to the Jeong. et al. slope?"
   ]
  }
 ],
 "metadata": {
  "kernelspec": {
   "display_name": "R",
   "language": "R",
   "name": "ir"
  },
  "language_info": {
   "codemirror_mode": "r",
   "file_extension": ".r",
   "mimetype": "text/x-r-source",
   "name": "R",
   "pygments_lexer": "r",
   "version": "3.4.1"
  }
 },
 "nbformat": 4,
 "nbformat_minor": 1
}
