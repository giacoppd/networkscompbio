{
 "cells": [
  {
   "cell_type": "markdown",
   "metadata": {},
   "source": [
    "Load the Pathway Commons SIF file into an R data frame, naming the three columns"
   ]
  },
  {
   "cell_type": "code",
   "execution_count": 6,
   "metadata": {},
   "outputs": [],
   "source": [
    "df <- read.table(\"shared/pathway_commons.sif\",\n",
    "                sep=\"\\t\",\n",
    "                quote=\"\",\n",
    "                comment.char=\"\",\n",
    "                stringsAsFactors=FALSE,\n",
    "                header=FALSE,\n",
    "                col.names=c(\"species1\",\"interaction_type\",\"species2\"))\n"
   ]
  },
  {
   "cell_type": "markdown",
   "metadata": {},
   "source": [
    "Make a set of specific interaction-type names, for three general types of networks:  PPI, metabolic network, and PPD"
   ]
  },
  {
   "cell_type": "code",
   "execution_count": 7,
   "metadata": {},
   "outputs": [],
   "source": [
    "\n",
    "interaction_types_ppi <- c(\"interacts-with\",\n",
    "                           \"in-complex-with\",\n",
    "                           \"neighbor-of\")\n",
    "\n",
    "interaction_types_metab <- c(\"controls-production-of\",\n",
    "                             \"consumption-controlled-by\",\n",
    "                             \"controls-production-of\",\n",
    "                             \"controls-transport-of-chemical\")\n",
    "\n",
    "interaction_types_ppd <- c(\"catalysis-precedes\",\n",
    "                           \"controls-phosphorylation-of\",\n",
    "                           \"controls-state-change-of\",\n",
    "                           \"controls-transport-of\",\n",
    "                           \"controls-expression-of\")"
   ]
  },
  {
   "cell_type": "markdown",
   "metadata": {},
   "source": [
    "For each of the three sets, make a new data frame by subsetting your R dataframe to only the rows where the \"interaction_type\" column contains a value that is in the set of specific interaction types."
   ]
  },
  {
   "cell_type": "code",
   "execution_count": 8,
   "metadata": {},
   "outputs": [],
   "source": [
    "ppi_df <- df[df$interaction_type %in% interaction_types_ppi,c(1,3,2)]\n",
    "metab_df <- df[df$interaction_type %in% interaction_types_metab, c(1,3,2)]\n",
    "ppd_df <- df[df$interaction_type %in% interaction_types_ppd, c(1,3,2)]"
   ]
  },
  {
   "cell_type": "markdown",
   "metadata": {},
   "source": [
    "Make an igraph Graph object from each of your three data frames, using `graph_from_data_frame`; call the `print` function on each graph object to print the summary information for the graph."
   ]
  },
  {
   "cell_type": "code",
   "execution_count": 9,
   "metadata": {},
   "outputs": [
    {
     "name": "stdout",
     "output_type": "stream",
     "text": [
      "IGRAPH cdfa81b UN-- 17531 508480 -- \n",
      "+ attr: name (v/c), interaction_type (e/c)\n",
      "+ edges from cdfa81b (vertex names):\n",
      " [1] A1BG--ABCC6   A1BG--ACE2    A1BG--ADAM10  A1BG--ADAM17  A1BG--ADAM9  \n",
      " [6] A1BG--AGO1    A1BG--ANXA7   A1BG--CDKN1A  A1BG--CRISP3  A1BG--CRK    \n",
      "[11] A1BG--CSE1L   A1BG--DDX3X   A1BG--DEAF1   A1BG--E2F1    A1BG--E2F2   \n",
      "[16] A1BG--E2F3    A1BG--EIF3E   A1BG--ELAVL1  A1BG--GDPD1   A1BG--GRB2   \n",
      "[21] A1BG--GRB7    A1BG--HNF4A   A1BG--HNRNPC  A1BG--HUWE1   A1BG--IQGAP1 \n",
      "[26] A1BG--KCMF1   A1BG--KPNB1   A1BG--LIG3    A1BG--MYD88   A1BG--NEIL1  \n",
      "[31] A1BG--NTHL1   A1BG--ONECUT1 A1BG--PFN2    A1BG--PIAS1   A1BG--PIK3CA \n",
      "[36] A1BG--PIK3R1  A1BG--PNKP    A1BG--POLB    A1BG--PPP2R1A A1BG--PRDX4  \n",
      "+ ... omitted several edges\n"
     ]
    }
   ],
   "source": [
    "library(igraph)\n",
    "\n"
   ]
  },
  {
   "cell_type": "code",
   "execution_count": 10,
   "metadata": {},
   "outputs": [
    {
     "name": "stdout",
     "output_type": "stream",
     "text": [
      "IGRAPH 5c9ebce DN-- 9795 47646 -- \n",
      "+ attr: name (v/c), interaction_type (e/c)\n",
      "+ edges from 5c9ebce (vertex names):\n",
      " [1] A1CF  ->CHEBI:17775 A1CF  ->CHEBI:27226 A1CF  ->CHEBI:46819\n",
      " [4] A4GALT->CHEBI:17659 A4GALT->CHEBI:17950 A4GALT->CHEBI:18307\n",
      " [7] A4GALT->CHEBI:18313 A4GALT->CHEBI:58223 A4GALT->CHEBI:67119\n",
      "[10] A4GNT ->CHEBI:17659 A4GNT ->CHEBI:58223 AAAS  ->CHEBI:1604 \n",
      "[13] AAAS  ->CHEBI:2274  AACS  ->CHEBI:13705 AACS  ->CHEBI:15345\n",
      "[16] AACS  ->CHEBI:17369 AACS  ->CHEBI:45212 AACS  ->CHEBI:57286\n",
      "[19] AACS  ->CHEBI:57287 AACS  ->CHEBI:57288 AACS  ->CHEBI:57392\n",
      "[22] AACS  ->CHEBI:58280 AADAC ->CHEBI:17790 AADAC ->CHEBI:40574\n",
      "+ ... omitted several edges\n"
     ]
    }
   ],
   "source": []
  },
  {
   "cell_type": "code",
   "execution_count": 11,
   "metadata": {},
   "outputs": [
    {
     "name": "stdout",
     "output_type": "stream",
     "text": [
      "IGRAPH 994c2ba DN-- 18155 479298 -- \n",
      "+ attr: name (v/c), interaction_type (e/c)\n",
      "+ edges from 994c2ba (vertex names):\n",
      " [1] A1BG  ->A2M     A1BG  ->AKT1    A1BG  ->AKT1    A1CF  ->CASP1  \n",
      " [5] A1CF  ->CCL2    A1CF  ->IL1B    A2M   ->APOA1   A2M   ->CASP3  \n",
      " [9] A2M   ->CASP9   A2M   ->CDC42   A2M   ->IFNG    A2M   ->INS    \n",
      "[13] A2M   ->LRP1    A2M   ->PARP1   A2M   ->PTK2    A2M   ->RAC1   \n",
      "[17] A2M   ->RAC2    A2M   ->RAC3    A2M   ->RHOA    A2M   ->RHOBTB1\n",
      "[21] A2M   ->RHOBTB2 A2M   ->RHOB    A2M   ->RHOC    A2M   ->RHOD   \n",
      "[25] A2M   ->RHOF    A2M   ->RHOG    A2M   ->RHOH    A2M   ->RHOJ   \n",
      "[29] A2M   ->RHOQ    A2M   ->RHOT1   A2M   ->RHOT2   A2M   ->RHOU   \n",
      "+ ... omitted several edges\n"
     ]
    }
   ],
   "source": [
    "\n"
   ]
  },
  {
   "cell_type": "code",
   "execution_count": null,
   "metadata": {
    "collapsed": true
   },
   "outputs": [],
   "source": []
  }
 ],
 "metadata": {
  "kernelspec": {
   "display_name": "R",
   "language": "R",
   "name": "ir"
  },
  "language_info": {
   "codemirror_mode": "r",
   "file_extension": ".r",
   "mimetype": "text/x-r-source",
   "name": "R",
   "pygments_lexer": "r",
   "version": "3.4.1"
  }
 },
 "nbformat": 4,
 "nbformat_minor": 1
}
