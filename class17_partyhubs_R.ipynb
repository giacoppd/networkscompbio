{
 "cells": [
  {
   "cell_type": "markdown",
   "metadata": {},
   "source": [
    "# Class Session 17 Exercise:\n",
    "## Comparing the histograms of local clustering coefficients of date hubs and party hubs\n",
    "\n",
    "load the file of hub types `shared/han_hub_data.txt` (two-column TSV file, first column is the protein name, and second column contains `date` or `party`)"
   ]
  },
  {
   "cell_type": "code",
   "execution_count": 1,
   "metadata": {
    "collapsed": true
   },
   "outputs": [],
   "source": [
    "hub_data <- read.table(\"shared/han_hub_data.txt\", \n",
    "                       sep=\"\\t\",\n",
    "                       header=TRUE,\n",
    "                       stringsAsFactors=FALSE)"
   ]
  },
  {
   "cell_type": "markdown",
   "metadata": {},
   "source": [
    "load the file of network edges `shared/han_network_edges.txt` (two-column file, with first column is the first protein in the interacting pair, and the second column is the second protein in the interacting pair)"
   ]
  },
  {
   "cell_type": "code",
   "execution_count": 3,
   "metadata": {
    "collapsed": true
   },
   "outputs": [],
   "source": [
    "edge_df <- read.table(\"shared/han_network_edges.txt\",\n",
    "                     sep=\"\\t\",\n",
    "                     header=TRUE,\n",
    "                     stringsAsFactors=FALSE)"
   ]
  },
  {
   "cell_type": "markdown",
   "metadata": {},
   "source": [
    "make an undirected igraph `Graph` from the edgelist data; show summary data on the graph as a sanity-check"
   ]
  },
  {
   "cell_type": "code",
   "execution_count": 6,
   "metadata": {
    "collapsed": false
   },
   "outputs": [
    {
     "name": "stdout",
     "output_type": "stream",
     "text": [
      "IGRAPH UN-- 1344 2523 -- \n",
      "+ attr: name (v/c)\n"
     ]
    }
   ],
   "source": [
    "library(igraph)\n",
    "ppi_graph <- graph_from_data_frame(edge_df, directed=FALSE)\n",
    "summary(ppi_graph)"
   ]
  },
  {
   "cell_type": "markdown",
   "metadata": {},
   "source": [
    "get the igraph vertex indexes of the proteins that are date hubs or party hubs; as a sanity check, print out the number of date hubs and party hubs that you find"
   ]
  },
  {
   "cell_type": "code",
   "execution_count": 33,
   "metadata": {
    "collapsed": false
   },
   "outputs": [
    {
     "name": "stdout",
     "output_type": "stream",
     "text": [
      "[1] \"number of date hubs: 91\"\n",
      "[1] \"number of party hubs: 108\"\n"
     ]
    }
   ],
   "source": [
    "graph_hub_types <- hub_data$HubType[match(V(ppi_graph)$name, hub_data$Protein)]\n",
    "date_hub_inds <- which(graph_hub_types==\"date\")\n",
    "party_hub_inds <- which(graph_hub_types==\"party\")\n",
    "print(sprintf(\"number of date hubs: %d\", length(date_hub_inds)))\n",
    "print(sprintf(\"number of party hubs: %d\", length(party_hub_inds)))"
   ]
  },
  {
   "cell_type": "markdown",
   "metadata": {},
   "source": [
    "use the `transitivity` function in igraph to compute the local clustering coefficients for every vertex in the graph; print out the first six components of the vector of data returned, as a sanity check"
   ]
  },
  {
   "cell_type": "code",
   "execution_count": 34,
   "metadata": {
    "collapsed": false
   },
   "outputs": [
    {
     "data": {
      "text/html": [
       "<ol class=list-inline>\n",
       "\t<li>NaN</li>\n",
       "\t<li>0.666666666666667</li>\n",
       "\t<li>0.0514705882352941</li>\n",
       "\t<li>0.681318681318681</li>\n",
       "\t<li>NaN</li>\n",
       "\t<li>0</li>\n",
       "</ol>\n"
      ],
      "text/latex": [
       "\\begin{enumerate*}\n",
       "\\item NaN\n",
       "\\item 0.666666666666667\n",
       "\\item 0.0514705882352941\n",
       "\\item 0.681318681318681\n",
       "\\item NaN\n",
       "\\item 0\n",
       "\\end{enumerate*}\n"
      ],
      "text/markdown": [
       "1. NaN\n",
       "2. 0.666666666666667\n",
       "3. 0.0514705882352941\n",
       "4. 0.681318681318681\n",
       "5. NaN\n",
       "6. 0\n",
       "\n",
       "\n"
      ],
      "text/plain": [
       "[1]        NaN 0.66666667 0.05147059 0.68131868        NaN 0.00000000"
      ]
     },
     "metadata": {},
     "output_type": "display_data"
    }
   ],
   "source": [
    "local_clust_coeffs <- transitivity(ppi_graph, type=\"local\")\n",
    "head(local_clust_coeffs)"
   ]
  },
  {
   "cell_type": "markdown",
   "metadata": {},
   "source": [
    "Plot the histograms of the local clustering coefficients of the \"date hubs\" and the \"party hubs\"."
   ]
  },
  {
   "cell_type": "code",
   "execution_count": 74,
   "metadata": {
    "collapsed": false
   },
   "outputs": [
    {
     "data": {
      "image/png": "[encoded data removed]",
      "text/plain": [
       "Plot with title \"\""
      ]
     },
     "metadata": {},
     "output_type": "display_data"
    }
   ],
   "source": [
    "nbreaks <- 10\n",
    "breaks <- (0:nbreaks)/nbreaks\n",
    "hist_date <- hist(local_clust_coeffs[date_hub_inds], breaks=breaks, plot=FALSE)\n",
    "hist_party <- hist(local_clust_coeffs[party_hub_inds], breaks=breaks, plot=FALSE)\n",
    "plotvals <- 0.5*(breaks[1:nbreaks] + breaks[2:(nbreaks+1)])\n",
    "plot(hist_date, col=rgb(0,0,1,1/4), xlab=expression(C[i]), main=\"\", freq=FALSE)\n",
    "plot(hist_party, col=rgb(0,1,0,1/4), add=TRUE, freq=FALSE)\n",
    "legend(0.3, 2, legend=c(\"date\",\"party\"), fill=c(rgb(0,0,1,1/4),rgb(0,1,0,1/4)))"
   ]
  },
  {
   "cell_type": "code",
   "execution_count": null,
   "metadata": {
    "collapsed": true
   },
   "outputs": [],
   "source": []
  }
 ],
 "metadata": {
  "kernelspec": {
   "display_name": "R",
   "language": "R",
   "name": "ir"
  },
  "language_info": {
   "codemirror_mode": "r",
   "file_extension": ".r",
   "mimetype": "text/x-r-source",
   "name": "R",
   "pygments_lexer": "r",
   "version": "3.2.2"
  }
 },
 "nbformat": 4,
 "nbformat_minor": 1
}
