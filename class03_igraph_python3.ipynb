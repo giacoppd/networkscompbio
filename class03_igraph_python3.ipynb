{
 "cells": [
  {
   "cell_type": "code",
   "execution_count": 30,
   "metadata": {},
   "outputs": [],
   "source": [
    "import pandas\n",
    "df = pandas.read_csv(\"shared/pathway_commons.sif\", \n",
    "                     sep=\"\\t\", \n",
    "                     names=[\"species1\",\"interaction_type\",\"species2\"])"
   ]
  },
  {
   "cell_type": "code",
   "execution_count": 4,
   "metadata": {},
   "outputs": [],
   "source": [
    "interaction_types_ppi = set([\"interacts-with\",\n",
    "                           \"in-complex-with\",\n",
    "                           \"neighbor-of\"])\n",
    "\n",
    "interaction_types_metab = set([\"controls-production-of\",\n",
    "                             \"consumption-controlled-by\",\n",
    "                             \"controls-production-of\",\n",
    "                             \"controls-transport-of-chemical\"])\n",
    "\n",
    "interaction_types_ppd = set([\"catalysis-precedes\",\n",
    "                           \"controls-phosphorylation-of\",\n",
    "                           \"controls-state-change-of\",\n",
    "                           \"controls-transport-of\",\n",
    "                           \"controls-expression-of\"])"
   ]
  },
  {
   "cell_type": "code",
   "execution_count": 38,
   "metadata": {
    "scrolled": true
   },
   "outputs": [],
   "source": [
    "ppirows = df.interaction_type.isin(interaction_types_ppi)\n",
    "metabrows = df.interaction_type.isin(interaction_types_metab)\n",
    "ppdrows = df.interaction_type.isin(interaction_types_ppd)\n",
    "\n",
    "df_ppi = df[df.interaction_type.isin(interaction_types_ppi)]\n",
    "df_metab = df[df.interaction_type.isin(interaction_types_metab)]\n",
    "df_ppd = df[df.interaction_type.isin(interaction_types_ppd)]\n",
    "\n",
    "df_ppi_el = df_ppi[[\"species1\",\"species2\"]].values.tolist()\n",
    "df_metab_el = df_metab[[\"species1\",\"species2\"]].values.tolist()\n",
    "df_ppd_el = df_ppd[[\"species1\",\"species2\"]].values.tolist()"
   ]
  },
  {
   "cell_type": "code",
   "execution_count": 45,
   "metadata": {},
   "outputs": [
    {
     "name": "stdout",
     "output_type": "stream",
     "text": [
      "IGRAPH UN-- 17020 523498 -- \n",
      "+ attr: name (v)\n"
     ]
    }
   ],
   "source": [
    "from igraph import Graph\n",
    "from igraph import summary\n",
    "\n",
    "graph_ppi = Graph.TupleList(df_ppi_el)\n",
    "summary(graph_ppi)"
   ]
  },
  {
   "cell_type": "code",
   "execution_count": 47,
   "metadata": {},
   "outputs": [
    {
     "name": "stdout",
     "output_type": "stream",
     "text": [
      "IGRAPH DN-- 7620 38145 -- \n",
      "+ attr: name (v)\n"
     ]
    }
   ],
   "source": [
    "graph_metab = Graph.TupleList(df_metab_el, directed=True)\n",
    "summary(graph_metab)"
   ]
  },
  {
   "cell_type": "code",
   "execution_count": 48,
   "metadata": {},
   "outputs": [
    {
     "name": "stdout",
     "output_type": "stream",
     "text": [
      "IGRAPH DN-- 16063 359713 -- \n",
      "+ attr: name (v)\n"
     ]
    }
   ],
   "source": [
    "graph_ppd = Graph.TupleList(df_ppd_el, directed=True)\n",
    "summary(graph_ppd)"
   ]
  },
  {
   "cell_type": "code",
   "execution_count": 51,
   "metadata": {},
   "outputs": [
    {
     "data": {
      "text/plain": [
       "list"
      ]
     },
     "execution_count": 51,
     "metadata": {},
     "output_type": "execute_result"
    }
   ],
   "source": [
    "type(df_ppi_el)"
   ]
  },
  {
   "cell_type": "code",
   "execution_count": null,
   "metadata": {
    "collapsed": true
   },
   "outputs": [],
   "source": []
  }
 ],
 "metadata": {
  "kernelspec": {
   "display_name": "Python 3",
   "language": "python",
   "name": "python3"
  },
  "language_info": {
   "codemirror_mode": {
    "name": "ipython",
    "version": 3
   },
   "file_extension": ".py",
   "mimetype": "text/x-python",
   "name": "python",
   "nbconvert_exporter": "python",
   "pygments_lexer": "ipython3",
   "version": "3.5.2"
  }
 },
 "nbformat": 4,
 "nbformat_minor": 1
}
