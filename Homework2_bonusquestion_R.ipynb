{
 "cells": [
  {
   "cell_type": "code",
   "execution_count": 1,
   "metadata": {
    "collapsed": false
   },
   "outputs": [
    {
     "name": "stderr",
     "output_type": "stream",
     "text": [
      "\n",
      "Attaching package: 'igraph'\n",
      "\n",
      "The following objects are masked from 'package:stats':\n",
      "\n",
      "    decompose, spectrum\n",
      "\n",
      "The following object is masked from 'package:base':\n",
      "\n",
      "    union\n",
      "\n"
     ]
    }
   ],
   "source": [
    "library(igraph)\n",
    "nvertices = 20\n",
    "medges_step = 2\n",
    "G = sample_pa(n=nvertices, m=medges_step)\n",
    "UG = as.undirected(G)"
   ]
  },
  {
   "cell_type": "code",
   "execution_count": 68,
   "metadata": {
    "collapsed": false
   },
   "outputs": [],
   "source": [
    "extend_seqs_by_one_recurser <- function(mygraph, myseqs, k) {\n",
    "    if (k > 1) {\n",
    "        unique(unlist(unlist(lapply(extend_seqs_by_one_recurser(mygraph, myseqs, k-1),\n",
    "                                    function(myseq) {\n",
    "                                        lapply(myseq, function(myvertex) {\n",
    "                                            lapply(setdiff(neighbors(mygraph, myvertex), myseq),\n",
    "                                                   function(myneighbor) {\n",
    "                                                       sort(c(myseq, myneighbor))\n",
    "                                                   })                                            \n",
    "                                        })\n",
    "                                    }),\n",
    "                             recursive=FALSE),\n",
    "                      recursive=FALSE))\n",
    "    } else {\n",
    "        myseqs\n",
    "    }\n",
    "}\n",
    "\n",
    "key_motifs <- function(mydigraph, myseqs) {\n",
    "    lapply(myseqs, function(myseq) {\n",
    "        outdeg_myseq <- sort(sapply(myseq, function(myvert) {sum(mydigraph[myvert, setdiff(myseq, myvert)])}))\n",
    "        indeg_myseq <- sort(sapply(myseq, function(myvert) {sum(mydigraph[setdiff(myseq, myvert), myvert])}))\n",
    "        c(indeg_myseq, outdeg_myseq)\n",
    "    })\n",
    "}\n",
    "\n"
   ]
  },
  {
   "cell_type": "code",
   "execution_count": 76,
   "metadata": {
    "collapsed": false
   },
   "outputs": [
    {
     "data": {
      "text/html": [
       "<table>\n",
       "<thead><tr><th scope=col>X1</th><th scope=col>X2</th><th scope=col>X3</th><th scope=col>X4</th><th scope=col>X5</th><th scope=col>X6</th><th scope=col>freq</th></tr></thead>\n",
       "<tbody>\n",
       "\t<tr><td>0  </td><td>0  </td><td>2  </td><td>0  </td><td>1  </td><td>1  </td><td>137</td></tr>\n",
       "\t<tr><td>0  </td><td>1  </td><td>1  </td><td>0  </td><td>0  </td><td>2  </td><td>  7</td></tr>\n",
       "\t<tr><td>0  </td><td>1  </td><td>1  </td><td>0  </td><td>1  </td><td>1  </td><td> 26</td></tr>\n",
       "\t<tr><td>0  </td><td>1  </td><td>2  </td><td>0  </td><td>1  </td><td>2  </td><td> 11</td></tr>\n",
       "</tbody>\n",
       "</table>\n"
      ],
      "text/latex": [
       "\\begin{tabular}{r|lllllll}\n",
       " X1 & X2 & X3 & X4 & X5 & X6 & freq\\\\\n",
       "\\hline\n",
       "\t 0   & 0   & 2   & 0   & 1   & 1   & 137\\\\\n",
       "\t 0   & 1   & 1   & 0   & 0   & 2   &   7\\\\\n",
       "\t 0   & 1   & 1   & 0   & 1   & 1   &  26\\\\\n",
       "\t 0   & 1   & 2   & 0   & 1   & 2   &  11\\\\\n",
       "\\end{tabular}\n"
      ],
      "text/plain": [
       "  X1 X2 X3 X4 X5 X6 freq\n",
       "1 0  0  2  0  1  1  137 \n",
       "2 0  1  1  0  0  2    7 \n",
       "3 0  1  1  0  1  1   26 \n",
       "4 0  1  2  0  1  2   11 "
      ]
     },
     "metadata": {},
     "output_type": "display_data"
    }
   ],
   "source": [
    "library(plyr)\n",
    "count(data.frame(do.call(rbind, key_motifs(G, extend_seqs_by_one_recurser(UG, 1:nvertices, 3)))))"
   ]
  },
  {
   "cell_type": "code",
   "execution_count": 77,
   "metadata": {
    "collapsed": false
   },
   "outputs": [
    {
     "data": {
      "text/html": [
       "<ol class=list-inline>\n",
       "\t<li>NA</li>\n",
       "\t<li>NA</li>\n",
       "\t<li>137</li>\n",
       "\t<li>NA</li>\n",
       "\t<li>26</li>\n",
       "\t<li>0</li>\n",
       "\t<li>7</li>\n",
       "\t<li>11</li>\n",
       "\t<li>0</li>\n",
       "\t<li>0</li>\n",
       "\t<li>0</li>\n",
       "\t<li>0</li>\n",
       "\t<li>0</li>\n",
       "\t<li>0</li>\n",
       "\t<li>0</li>\n",
       "\t<li>0</li>\n",
       "</ol>\n"
      ],
      "text/latex": [
       "\\begin{enumerate*}\n",
       "\\item NA\n",
       "\\item NA\n",
       "\\item 137\n",
       "\\item NA\n",
       "\\item 26\n",
       "\\item 0\n",
       "\\item 7\n",
       "\\item 11\n",
       "\\item 0\n",
       "\\item 0\n",
       "\\item 0\n",
       "\\item 0\n",
       "\\item 0\n",
       "\\item 0\n",
       "\\item 0\n",
       "\\item 0\n",
       "\\end{enumerate*}\n"
      ],
      "text/markdown": [
       "1. NA\n",
       "2. NA\n",
       "3. 137\n",
       "4. NA\n",
       "5. 26\n",
       "6. 0\n",
       "7. 7\n",
       "8. 11\n",
       "9. 0\n",
       "10. 0\n",
       "11. 0\n",
       "12. 0\n",
       "13. 0\n",
       "14. 0\n",
       "15. 0\n",
       "16. 0\n",
       "\n",
       "\n"
      ],
      "text/plain": [
       " [1]  NA  NA 137  NA  26   0   7  11   0   0   0   0   0   0   0   0"
      ]
     },
     "metadata": {},
     "output_type": "display_data"
    }
   ],
   "source": [
    "motifs(G)"
   ]
  }
 ],
 "metadata": {
  "kernelspec": {
   "display_name": "R",
   "language": "R",
   "name": "ir"
  },
  "language_info": {
   "codemirror_mode": "r",
   "file_extension": ".r",
   "mimetype": "text/x-r-source",
   "name": "R",
   "pygments_lexer": "r",
   "version": "3.2.2"
  }
 },
 "nbformat": 4,
 "nbformat_minor": 1
}
