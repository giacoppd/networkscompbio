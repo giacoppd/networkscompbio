{
 "cells": [
  {
   "cell_type": "code",
   "execution_count": 1,
   "metadata": {},
   "outputs": [],
   "source": [
    "# this dosn't really count toward the \"one-liner\"; I just don't want to have to bounce the \n",
    "# JupyterHub server in order to update the LD_LIBRARY_PATH for the bash kernel\n",
    "export LD_LIBRARY_PATH=/usr/local/lib"
   ]
  },
  {
   "cell_type": "code",
   "execution_count": 3,
   "metadata": {},
   "outputs": [
    {
     "name": "stdout",
     "output_type": "stream",
     "text": []
    },
    {
     "data": {
      "image/png": "[encoded data removed]"
     },
     "metadata": {},
     "output_type": "display_data"
    }
   ],
   "source": [
    "egrep $'\\tinteracts-with\\t|\\tin-complex-with\\t' shared/pathway_commons.sif  | \\\n",
    " cut -f1,3 | \\\n",
    " sed 's/\\t/\\n/g' | \\\n",
    " sort | \\\n",
    " uniq -c | \\\n",
    " sort -k1nr | \\\n",
    " sed 's/^\\s*//g' | \\\n",
    " cut -f1 -d\\  | \\\n",
    " awk '{print int(int($1)/100)}' | \\\n",
    " sort | \\\n",
    " uniq -c | \\\n",
    " awk 'BEGIN { print \"set term png\\nset out\\nplot '\\''<cat'\\''\"} { print $2 \"\\t\" log($1)/log(10)}' | \\\n",
    " gnuplot -p | display"
   ]
  },
  {
   "cell_type": "code",
   "execution_count": null,
   "metadata": {
    "collapsed": true
   },
   "outputs": [],
   "source": []
  }
 ],
 "metadata": {
  "kernelspec": {
   "display_name": "Bash",
   "language": "bash",
   "name": "bash"
  },
  "language_info": {
   "codemirror_mode": "shell",
   "file_extension": ".sh",
   "mimetype": "text/x-sh",
   "name": "bash"
  }
 },
 "nbformat": 4,
 "nbformat_minor": 1
}
